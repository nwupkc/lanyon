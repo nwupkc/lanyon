{
 "cells": [
  {
   "cell_type": "markdown",
   "metadata": {},
   "source": [
    "## Regularization"
   ]
  },
  {
   "cell_type": "markdown",
   "metadata": {},
   "source": [
    "__Why Regularization__ Regularizing (or shrinking) the coefficients estimates towards zero can significantly reduce their variance and thus fix overfitting. Overfitting occurs when there is low bias and high variance. Complex models can lead to overfitting the data, which means they follow the errors, or noise in data, too closely. This results in low training error but high testing error. Consequently, overfitting results in poor predictions on unseen data. What regularization does is that it awards goodness of fit while penalizing model complexity."
   ]
  },
  {
   "cell_type": "markdown",
   "metadata": {},
   "source": [
    "## Ridge Regression"
   ]
  },
  {
   "cell_type": "markdown",
   "metadata": {},
   "source": [
    "Recall that the least squares fitting procedures estimates $\\beta$s by minimizing:\n",
    "\n",
    "$$ RSS = \\sum_{i=1}^n (y_i - \\beta_0 - \\sum_{j=1}^p \\beta_j x_{ij})^2 $$"
   ]
  },
  {
   "cell_type": "markdown",
   "metadata": {},
   "source": [
    "In contrast, the ridge regression coefficient estimates $\\hat\\beta^R$ are the values that minimize:\n",
    "$$ \\sum_{i=1}^n (y_i - \\beta_0 - \\sum_{j=1}^p \\beta_j x_{ij})^2 + \\lambda\\sum_{j=1}^p \\beta_j^2 = RSS + \\lambda\\sum_{j=1}^p \\beta_j^2 $$\n",
    "where $\\lambda\\ge0$ is a tuning parameter."
   ]
  },
  {
   "cell_type": "markdown",
   "metadata": {},
   "source": [
    "The difference, $\\lambda\\sum_{j=1}^p \\beta_j^2$, is a shrinkage penalty (also called $l_2$ norm) which essentially penalizes having high $\\beta$s. When $\\lambda=0$ our ridge regression is equivalent to the least square regression. As $\\lambda$ increases, the flexibility of the ridge regression fit decreases, leading to decreased variance but increased bias. When $\\lambda\\rightarrow\\infty$, the ridge regression coefficient estimates will approach zero. Notice that the shrinkage penalty is not applied to $\\beta_0$. This is because we do not want to shrink the intercept, which is the mean output when $x_{i1} = x_{i2} = \\ldots = x_{ip} = 0$."
   ]
  },
  {
   "cell_type": "markdown",
   "metadata": {},
   "source": [
    "## The Lasso"
   ]
  },
  {
   "cell_type": "markdown",
   "metadata": {},
   "source": [
    "__Why Lasso__ One caveat of using the ridge regression is that it will use all p predictors when building model. The penalty $\\lambda\\sum_{j=1}^p \\beta_j^2$ will shrink all of the coefficients towards zero, but it will not set any of them exactly to zero. The lasso regression overcomes this disadvantage. The lasso coefficients, $\\hat\\beta^L$, minimize the quantity:\n",
    "$$ \\sum_{i=1}^n (y_i - \\beta_0 - \\sum_{j=1}^p \\beta_j x_{ij})^2 + \\lambda\\sum_{j=1}^p |\\beta_j| = RSS + \\lambda\\sum_{j=1}^p |\\beta_j| $$"
   ]
  },
  {
   "cell_type": "markdown",
   "metadata": {},
   "source": [
    "The lasso uses an $l_1$ penalty, $\\lambda\\sum_{j=1}^p |\\beta_j|$, while the ridge uses an $l_2$ penalty. In the case of the lasso, the $l_1$ penalty has the effect of forcing some of the coefficient estimates to be exactly equal to zero when the tuning parameter $\\lambda$ is sufficiently large. The lasso performs variable selection and thus yields sparse model meaning model involve only a subset of the variables. This gives us a huge advantage in model interpretation."
   ]
  },
  {
   "cell_type": "markdown",
   "metadata": {},
   "source": [
    "Again, when $\\lambda=0$, the lasso simply gives the least squares fit, and when $\\lambda$ becomes sufficiently large, the lasso gives the null model in which all coefficient estimates equal to zero."
   ]
  },
  {
   "cell_type": "markdown",
   "metadata": {
    "ExecuteTime": {
     "end_time": "2018-03-17T23:37:44.870382Z",
     "start_time": "2018-03-17T23:37:44.864637Z"
    }
   },
   "source": [
    "## The Elastic Net"
   ]
  },
  {
   "cell_type": "markdown",
   "metadata": {},
   "source": [
    "The elastic net is a regularized regression method that linearly combines the $l_1$ and $l_2$ penalties of the lasso and ridge methods. It uses both $l_1$ and $l_2$ penalties. The elastic net coefficients, $\\hat\\beta^E$ minimize the quantity:\n",
    "$$ \\sum_{i=1}^n (y_i - \\beta_0 - \\sum_{j=1}^p \\beta_j x_{ij})^2 + \\lambda(\\alpha\\sum_{j=1}^p |\\beta_j| + (1-\\alpha)\\sum_{j=1}^p \\beta_j^2) = RSS + \\lambda(\\alpha\\sum_{j=1}^p |\\beta_j| + (1-\\alpha)\\sum_{j=1}^p \\beta_j^2) $$\n",
    "where $\\alpha\\in[0,1]$."
   ]
  }
 ],
 "metadata": {
  "kernelspec": {
   "display_name": "Python 3",
   "language": "python",
   "name": "python3"
  },
  "language_info": {
   "codemirror_mode": {
    "name": "ipython",
    "version": 3
   },
   "file_extension": ".py",
   "mimetype": "text/x-python",
   "name": "python",
   "nbconvert_exporter": "python",
   "pygments_lexer": "ipython3",
   "version": "3.6.4"
  },
  "latex_envs": {
   "LaTeX_envs_menu_present": true,
   "autoclose": false,
   "autocomplete": false,
   "bibliofile": "biblio.bib",
   "cite_by": "apalike",
   "current_citInitial": 1,
   "eqLabelWithNumbers": true,
   "eqNumInitial": 1,
   "hotkeys": {
    "equation": "Ctrl-E",
    "itemize": "Ctrl-I"
   },
   "labels_anchors": false,
   "latex_user_defs": false,
   "report_style_numbering": false,
   "user_envs_cfg": false
  },
  "toc": {
   "nav_menu": {},
   "number_sections": false,
   "sideBar": true,
   "skip_h1_title": false,
   "title_cell": "Table of Contents",
   "title_sidebar": "Contents",
   "toc_cell": false,
   "toc_position": {},
   "toc_section_display": true,
   "toc_window_display": false
  }
 },
 "nbformat": 4,
 "nbformat_minor": 2
}
