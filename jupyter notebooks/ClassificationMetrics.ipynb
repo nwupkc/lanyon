{
 "cells": [
  {
   "cell_type": "markdown",
   "metadata": {},
   "source": [
    "## Classification Metrics"
   ]
  },
  {
   "cell_type": "markdown",
   "metadata": {},
   "source": [
    "## Confusion Matrix"
   ]
  },
  {
   "cell_type": "markdown",
   "metadata": {},
   "source": [
    "                        Predicted\n",
    "Actual    True Positive   False Negative\n",
    "          False Positive  True Negative\n",
    "\n",
    "True Positive: Predicted YES and Actually YES\n",
    "False Negative: Predicted NO but Actually YES\n",
    "False Positive: Predicted YES but Actually NO\n",
    "True Negative: PREDICTED NO and Actually YES\n",
    "\n",
    "A lot of people (including myself) confuse False Negative and False Positive.\n",
    "Tip for memorizing: They are both False because the model got them wrong, but if it is predicted NO then it is negative and if it is predicted YES, then it is positive."
   ]
  },
  {
   "cell_type": "markdown",
   "metadata": {},
   "source": [
    "### Accuracy Score"
   ]
  },
  {
   "cell_type": "markdown",
   "metadata": {},
   "source": [
    "Accuracy is the number of correct predictions out of all predictions.\n",
    "$$Accuracy = \\frac{True Positive + True Negative}{True Positive + True Negative + False Positive + False Negative}$$\n",
    "Caveats: if the classes are highly imbalanced, the model with high accuracy might be useless. For example, if the people with cancer is 1% of the total population, the model predicting everybody as not having cancer will achieve 99% accuracy. Let's take a look at other metrics."
   ]
  },
  {
   "cell_type": "markdown",
   "metadata": {},
   "source": [
    "### Precision"
   ]
  },
  {
   "cell_type": "markdown",
   "metadata": {},
   "source": [
    "Precision is out of all the cases the model predicted yes, how often is it correct?\n",
    "$$Precision = \\frac{True Positive}{True Positive + False Positive}$$\n",
    "I used precision as my metric when classifying whether customer is going to tip or not. This is because when my model predict yes to tip, I want the customers to tip. It will look bad if my model says the customer will tip and they end up not tipping."
   ]
  },
  {
   "cell_type": "markdown",
   "metadata": {
    "ExecuteTime": {
     "end_time": "2018-03-20T02:27:18.097097Z",
     "start_time": "2018-03-20T02:27:18.090952Z"
    }
   },
   "source": [
    "### Recall (Sensitivity)"
   ]
  },
  {
   "cell_type": "markdown",
   "metadata": {},
   "source": [
    "Recall (or sensitivity) is when actually yes, how often does the model predict yes?\n",
    "$$Recall = \\frac{True Positive}{True Positive + False Negative}$$\n",
    "Going back to the cancer case, we want to really hone in on recall because we want to really identify the people with cancer. It is more acceptable to misclassify some people as having cancer and suggest further tests then to miss the people with actual cancer."
   ]
  },
  {
   "cell_type": "markdown",
   "metadata": {},
   "source": [
    "### $F_1$ Score"
   ]
  },
  {
   "cell_type": "markdown",
   "metadata": {},
   "source": [
    "$F_1$ score is the harmonic (weighted) mean of precision and recall. The harmonic mean gives much more weight to low values. As a result, the classifier will only get a high $F_1$ score if both recall and precision are high.\n",
    "$$F_1 = \\frac{2}{\\frac{1}{precistion}+{\\frac{1}{recall}}}\n",
    "= 2\\cdot\\frac{precision\\cdot recall}{precision+recall}\n",
    "= \\frac{TP}{TP + \\frac{FN+FP}{2}}$$"
   ]
  },
  {
   "cell_type": "markdown",
   "metadata": {},
   "source": [
    "$F_1$ score gives a convenient way to compare classifiers."
   ]
  },
  {
   "cell_type": "markdown",
   "metadata": {},
   "source": [
    "Which metric should you choose? This really depends on the business case."
   ]
  }
 ],
 "metadata": {
  "kernelspec": {
   "display_name": "Python 3",
   "language": "python",
   "name": "python3"
  },
  "language_info": {
   "codemirror_mode": {
    "name": "ipython",
    "version": 3
   },
   "file_extension": ".py",
   "mimetype": "text/x-python",
   "name": "python",
   "nbconvert_exporter": "python",
   "pygments_lexer": "ipython3",
   "version": "3.6.4"
  },
  "latex_envs": {
   "LaTeX_envs_menu_present": true,
   "autoclose": false,
   "autocomplete": false,
   "bibliofile": "biblio.bib",
   "cite_by": "apalike",
   "current_citInitial": 1,
   "eqLabelWithNumbers": true,
   "eqNumInitial": 1,
   "hotkeys": {
    "equation": "Ctrl-E",
    "itemize": "Ctrl-I"
   },
   "labels_anchors": false,
   "latex_user_defs": false,
   "report_style_numbering": false,
   "user_envs_cfg": false
  },
  "toc": {
   "nav_menu": {},
   "number_sections": false,
   "sideBar": true,
   "skip_h1_title": false,
   "title_cell": "Table of Contents",
   "title_sidebar": "Contents",
   "toc_cell": false,
   "toc_position": {},
   "toc_section_display": true,
   "toc_window_display": false
  }
 },
 "nbformat": 4,
 "nbformat_minor": 2
}
